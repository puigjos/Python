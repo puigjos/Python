{
 "cells": [
  {
   "cell_type": "markdown",
   "metadata": {
    "deletable": true,
    "editable": true
   },
   "source": [
    "# H2o: Machine Learning with Python\n",
    "**Josep Puig**\n"
   ]
  },
  {
   "cell_type": "code",
   "execution_count": 3,
   "metadata": {
    "collapsed": false,
    "deletable": true,
    "editable": true
   },
   "outputs": [
    {
     "name": "stdout",
     "output_type": "stream",
     "text": [
      "Checking whether there is an H2O instance running at http://localhost:54321. connected.\n"
     ]
    },
    {
     "data": {
      "text/html": [
       "<div style=\"overflow:auto\"><table style=\"width:50%\"><tr><td>H2O cluster uptime:</td>\n",
       "<td>43 secs</td></tr>\n",
       "<tr><td>H2O cluster version:</td>\n",
       "<td>3.10.4.1</td></tr>\n",
       "<tr><td>H2O cluster version age:</td>\n",
       "<td>1 month </td></tr>\n",
       "<tr><td>H2O cluster name:</td>\n",
       "<td>H2O_from_python_josep_wa8cu4</td></tr>\n",
       "<tr><td>H2O cluster total nodes:</td>\n",
       "<td>1</td></tr>\n",
       "<tr><td>H2O cluster free memory:</td>\n",
       "<td>1.854 Gb</td></tr>\n",
       "<tr><td>H2O cluster total cores:</td>\n",
       "<td>2</td></tr>\n",
       "<tr><td>H2O cluster allowed cores:</td>\n",
       "<td>2</td></tr>\n",
       "<tr><td>H2O cluster status:</td>\n",
       "<td>accepting new members, healthy</td></tr>\n",
       "<tr><td>H2O connection url:</td>\n",
       "<td>http://localhost:54321</td></tr>\n",
       "<tr><td>H2O connection proxy:</td>\n",
       "<td>None</td></tr>\n",
       "<tr><td>H2O internal security:</td>\n",
       "<td>False</td></tr>\n",
       "<tr><td>Python version:</td>\n",
       "<td>2.7.12 final</td></tr></table></div>"
      ],
      "text/plain": [
       "--------------------------  ------------------------------\n",
       "H2O cluster uptime:         43 secs\n",
       "H2O cluster version:        3.10.4.1\n",
       "H2O cluster version age:    1 month\n",
       "H2O cluster name:           H2O_from_python_josep_wa8cu4\n",
       "H2O cluster total nodes:    1\n",
       "H2O cluster free memory:    1.854 Gb\n",
       "H2O cluster total cores:    2\n",
       "H2O cluster allowed cores:  2\n",
       "H2O cluster status:         accepting new members, healthy\n",
       "H2O connection url:         http://localhost:54321\n",
       "H2O connection proxy:\n",
       "H2O internal security:      False\n",
       "Python version:             2.7.12 final\n",
       "--------------------------  ------------------------------"
      ]
     },
     "metadata": {},
     "output_type": "display_data"
    }
   ],
   "source": [
    "import numpy as np\n",
    "import pandas as pd\n",
    "import h2o\n",
    "h2o.init()"
   ]
  },
  {
   "cell_type": "code",
   "execution_count": 4,
   "metadata": {
    "collapsed": false,
    "deletable": true,
    "editable": true
   },
   "outputs": [
    {
     "name": "stdout",
     "output_type": "stream",
     "text": [
      "Parse progress: |█████████████████████████████████████████████████████████| 100%\n"
     ]
    }
   ],
   "source": [
    "df = h2o.import_file('bank_response_data.txt')"
   ]
  },
  {
   "cell_type": "code",
   "execution_count": 5,
   "metadata": {
    "collapsed": false,
    "deletable": true,
    "editable": true
   },
   "outputs": [
    {
     "name": "stdout",
     "output_type": "stream",
     "text": [
      "('Dimensions:', (3000, 21))\n"
     ]
    },
    {
     "data": {
      "text/html": [
       "<table>\n",
       "<thead>\n",
       "<tr><th style=\"text-align: right;\">  Age</th><th style=\"text-align: right;\">  Months as a Customer</th><th style=\"text-align: right;\">  Number of Products</th><th style=\"text-align: right;\">  RFM Score</th><th style=\"text-align: right;\">  Average Balance Feed Index</th><th style=\"text-align: right;\">  Number of Transactions</th><th style=\"text-align: right;\">  Personal Debt to Equity Ratio</th><th style=\"text-align: right;\">  Months Current Account</th><th style=\"text-align: right;\">  Number of Loan Accounts</th><th style=\"text-align: right;\">  Customer ID</th><th style=\"text-align: right;\">  Members Within Household</th><th style=\"text-align: right;\">  Number of Call Center Contacts</th><th>Gender  </th><th>Marital Status  </th><th style=\"text-align: right;\">  Age Youngest Child</th><th style=\"text-align: right;\">  Number of Workers in Household</th><th style=\"text-align: right;\">  Percentage White Collar Workers</th><th style=\"text-align: right;\">  Household Debt to Equity Ratio</th><th style=\"text-align: right;\">  Income</th><th style=\"text-align: right;\">  Campaign ID</th><th style=\"text-align: right;\">  Response</th></tr>\n",
       "</thead>\n",
       "<tbody>\n",
       "<tr><td style=\"text-align: right;\">   40</td><td style=\"text-align: right;\">                    24</td><td style=\"text-align: right;\">                   3</td><td style=\"text-align: right;\">    13.1457</td><td style=\"text-align: right;\">                         179</td><td style=\"text-align: right;\">                       1</td><td style=\"text-align: right;\">                             40</td><td style=\"text-align: right;\">                      12</td><td style=\"text-align: right;\">                        5</td><td style=\"text-align: right;\">        58986</td><td style=\"text-align: right;\">                         4</td><td style=\"text-align: right;\">                               9</td><td>F       </td><td>M               </td><td style=\"text-align: right;\">                  12</td><td style=\"text-align: right;\">                              12</td><td style=\"text-align: right;\">                               30</td><td style=\"text-align: right;\">                              57</td><td style=\"text-align: right;\">   54047</td><td style=\"text-align: right;\">            4</td><td style=\"text-align: right;\">         0</td></tr>\n",
       "<tr><td style=\"text-align: right;\">   40</td><td style=\"text-align: right;\">                    24</td><td style=\"text-align: right;\">                   3</td><td style=\"text-align: right;\">    13.1457</td><td style=\"text-align: right;\">                         179</td><td style=\"text-align: right;\">                       1</td><td style=\"text-align: right;\">                             40</td><td style=\"text-align: right;\">                      12</td><td style=\"text-align: right;\">                        5</td><td style=\"text-align: right;\">        58986</td><td style=\"text-align: right;\">                         4</td><td style=\"text-align: right;\">                               9</td><td>F       </td><td>M               </td><td style=\"text-align: right;\">                  12</td><td style=\"text-align: right;\">                              12</td><td style=\"text-align: right;\">                               30</td><td style=\"text-align: right;\">                              57</td><td style=\"text-align: right;\">   54047</td><td style=\"text-align: right;\">            3</td><td style=\"text-align: right;\">         0</td></tr>\n",
       "<tr><td style=\"text-align: right;\">   36</td><td style=\"text-align: right;\">                    36</td><td style=\"text-align: right;\">                   0</td><td style=\"text-align: right;\">     0     </td><td style=\"text-align: right;\">                           0</td><td style=\"text-align: right;\">                       0</td><td style=\"text-align: right;\">                             36</td><td style=\"text-align: right;\">                      35</td><td style=\"text-align: right;\">                        0</td><td style=\"text-align: right;\">          435</td><td style=\"text-align: right;\">                         5</td><td style=\"text-align: right;\">                              10</td><td>M       </td><td>S               </td><td style=\"text-align: right;\">                   8</td><td style=\"text-align: right;\">                               9</td><td style=\"text-align: right;\">                               22</td><td style=\"text-align: right;\">                              67</td><td style=\"text-align: right;\">   36405</td><td style=\"text-align: right;\">            2</td><td style=\"text-align: right;\">         0</td></tr>\n",
       "</tbody>\n",
       "</table>"
      ]
     },
     "metadata": {},
     "output_type": "display_data"
    },
    {
     "name": "stdout",
     "output_type": "stream",
     "text": [
      "\n",
      "[u'Age', u'Months as a Customer', u'Number of Products', u'RFM Score', u'Average Balance Feed Index', u'Number of Transactions', u'Personal Debt to Equity Ratio', u'Months Current Account', u'Number of Loan Accounts', u'Customer ID', u'Members Within Household', u'Number of Call Center Contacts', u'Gender', u'Marital Status', u'Age Youngest Child', u'Number of Workers in Household', u'Percentage White Collar Workers', u'Household Debt to Equity Ratio', u'Income', u'Campaign ID', u'Response']\n"
     ]
    }
   ],
   "source": [
    "print('Dimensions:', df.shape)\n",
    "print(df.head(3))\n",
    "print(df.col_names)"
   ]
  },
  {
   "cell_type": "code",
   "execution_count": 6,
   "metadata": {
    "collapsed": false,
    "deletable": true,
    "editable": true
   },
   "outputs": [
    {
     "name": "stdout",
     "output_type": "stream",
     "text": [
      "('Dimensions:', (3000, 19))\n"
     ]
    }
   ],
   "source": [
    "df1 = df[[u'Age', u'Months as a Customer', u'Number of Products', u'RFM Score', \n",
    "          u'Average Balance Feed Index', u'Number of Transactions', u'Personal Debt to Equity Ratio',\n",
    "          u'Months Current Account', u'Number of Loan Accounts', u'Members Within Household', \n",
    "          u'Number of Call Center Contacts', u'Gender', u'Marital Status', u'Age Youngest Child',\n",
    "          u'Number of Workers in Household', u'Percentage White Collar Workers', \n",
    "          u'Household Debt to Equity Ratio', u'Income', u'Response']]\n",
    "df1['Response'] = df1['Response'].asfactor()\n",
    "df1.head(3)\n",
    "print('Dimensions:', df1.shape)"
   ]
  },
  {
   "cell_type": "code",
   "execution_count": 7,
   "metadata": {
    "collapsed": false,
    "deletable": true,
    "editable": true
   },
   "outputs": [
    {
     "name": "stdout",
     "output_type": "stream",
     "text": [
      "There are 0.0 NA\n",
      "Variable Gender has [2] levels. With [['F', 'M']] categories\n",
      "Variable Marital Status has [3] levels. With [['M', 'S', 'U']] categories\n"
     ]
    }
   ],
   "source": [
    "print 'There are', df1.isna().sum(), 'NA'\n",
    "print 'Variable Gender has', df1['Gender'].nlevels(), 'levels. With', df1['Gender'].levels(),'categories'\n",
    "print 'Variable Marital Status has', df1['Marital Status'].nlevels(), 'levels. With', df1['Marital Status'].levels(),'categories'"
   ]
  },
  {
   "cell_type": "markdown",
   "metadata": {
    "deletable": true,
    "editable": true
   },
   "source": [
    "As usually, we will split the data in two parts, one to train different models, and the other to validate them."
   ]
  },
  {
   "cell_type": "code",
   "execution_count": 8,
   "metadata": {
    "collapsed": false,
    "deletable": true,
    "editable": true
   },
   "outputs": [],
   "source": [
    "train, test = df1.split_frame(ratios = [.7])"
   ]
  },
  {
   "cell_type": "markdown",
   "metadata": {
    "deletable": true,
    "editable": true
   },
   "source": [
    "I will do some useful exploration:"
   ]
  },
  {
   "cell_type": "code",
   "execution_count": 9,
   "metadata": {
    "collapsed": false,
    "deletable": true,
    "editable": true
   },
   "outputs": [
    {
     "name": "stdout",
     "output_type": "stream",
     "text": [
      "Train:\n"
     ]
    },
    {
     "data": {
      "text/html": [
       "<table>\n",
       "<thead>\n",
       "<tr><th style=\"text-align: right;\">   Count</th></tr>\n",
       "</thead>\n",
       "<tbody>\n",
       "<tr><td style=\"text-align: right;\">95.6958 </td></tr>\n",
       "<tr><td style=\"text-align: right;\"> 4.30416</td></tr>\n",
       "</tbody>\n",
       "</table>"
      ]
     },
     "metadata": {},
     "output_type": "display_data"
    },
    {
     "name": "stdout",
     "output_type": "stream",
     "text": [
      "\n",
      "Test:\n"
     ]
    },
    {
     "data": {
      "text/html": [
       "<table>\n",
       "<thead>\n",
       "<tr><th style=\"text-align: right;\">   Count</th></tr>\n",
       "</thead>\n",
       "<tbody>\n",
       "<tr><td style=\"text-align: right;\">97.6898 </td></tr>\n",
       "<tr><td style=\"text-align: right;\"> 2.31023</td></tr>\n",
       "</tbody>\n",
       "</table>"
      ]
     },
     "metadata": {},
     "output_type": "display_data"
    },
    {
     "name": "stdout",
     "output_type": "stream",
     "text": [
      "\n",
      "We can observe that the split has been made randomly!\n"
     ]
    }
   ],
   "source": [
    "print 'Train:'\n",
    "print train['Response'].table()['Count']/train.shape[0]*100\n",
    "print 'Test:'\n",
    "print test['Response'].table()['Count']/test.shape[0]*100\n",
    "print 'We can observe that the split has been made randomly!'"
   ]
  },
  {
   "cell_type": "markdown",
   "metadata": {
    "deletable": true,
    "editable": true
   },
   "source": [
    "## Logistic Regression\n",
    "\n",
    "> model1 = H2OGeneralizedLinearEstimator(family = 'binomial')\n",
    "\n",
    "- Family = 'binomial', 'gaussian', 'gamma'\n",
    "\n",
    "> model1.train(x=None, y=None, training_frame=None, offset_column=None, fold_column=None, weights_column=None, validation_frame=None, max_runtime_secs=None, ignored_columns=None, model_id=None)\n",
    "\n",
    "- x: A list of column names or indices indicating the predictor columns.\n",
    "- y: An index or a column name indicating the response column.\n",
    "- training_frame: The data frame m\n",
    "- validation_frame: H2OFrame with validation data to be scored on while training.\n"
   ]
  },
  {
   "cell_type": "code",
   "execution_count": 10,
   "metadata": {
    "collapsed": false,
    "deletable": true,
    "editable": true
   },
   "outputs": [
    {
     "name": "stdout",
     "output_type": "stream",
     "text": [
      "glm Model Build progress: |███████████████████████████████████████████████| 100%\n"
     ]
    }
   ],
   "source": [
    "from h2o.estimators.glm import H2OGeneralizedLinearEstimator\n",
    "model1 = H2OGeneralizedLinearEstimator(family = 'binomial')\n",
    "model1.train(x  = train.names[0:17], y = 'Response', training_frame=train, validation_frame=test)"
   ]
  },
  {
   "cell_type": "code",
   "execution_count": 11,
   "metadata": {
    "collapsed": false,
    "deletable": true,
    "editable": true
   },
   "outputs": [
    {
     "name": "stdout",
     "output_type": "stream",
     "text": [
      "GLM Model: summary\n",
      "\n"
     ]
    },
    {
     "data": {
      "text/html": [
       "<div style=\"overflow:auto\"><table style=\"width:50%\"><tr><td><b></b></td>\n",
       "<td><b>family</b></td>\n",
       "<td><b>link</b></td>\n",
       "<td><b>regularization</b></td>\n",
       "<td><b>number_of_predictors_total</b></td>\n",
       "<td><b>number_of_active_predictors</b></td>\n",
       "<td><b>number_of_iterations</b></td>\n",
       "<td><b>training_frame</b></td></tr>\n",
       "<tr><td></td>\n",
       "<td>binomial</td>\n",
       "<td>logit</td>\n",
       "<td>Elastic Net (alpha = 0.5, lambda = 1.203E-4 )</td>\n",
       "<td>20</td>\n",
       "<td>19</td>\n",
       "<td>5</td>\n",
       "<td>py_15_sid_b5ce</td></tr></table></div>"
      ],
      "text/plain": [
       "    family    link    regularization                                 number_of_predictors_total    number_of_active_predictors    number_of_iterations    training_frame\n",
       "--  --------  ------  ---------------------------------------------  ----------------------------  -----------------------------  ----------------------  ----------------\n",
       "    binomial  logit   Elastic Net (alpha = 0.5, lambda = 1.203E-4 )  20                            19                             5                       py_15_sid_b5ce"
      ]
     },
     "metadata": {},
     "output_type": "display_data"
    },
    {
     "data": {
      "text/plain": []
     },
     "execution_count": 11,
     "metadata": {},
     "output_type": "execute_result"
    }
   ],
   "source": [
    "#Summary\n",
    "model1.summary()"
   ]
  },
  {
   "cell_type": "code",
   "execution_count": 12,
   "metadata": {
    "collapsed": false,
    "deletable": true,
    "editable": true
   },
   "outputs": [
    {
     "name": "stdout",
     "output_type": "stream",
     "text": [
      "The AUC for Train is: 0.841951246599\n",
      "The AUC for Test is: 0.865052552553\n"
     ]
    }
   ],
   "source": [
    "model1_auc_train  = model1.auc(train = True)\n",
    "model1_auc_test = model1.auc(valid = True)\n",
    "print 'The AUC for Train is:', model1.auc(train = True)\n",
    "print 'The AUC for Test is:', model1.auc(valid = True)"
   ]
  },
  {
   "cell_type": "code",
   "execution_count": 13,
   "metadata": {
    "collapsed": false,
    "deletable": true,
    "editable": true
   },
   "outputs": [
    {
     "data": {
      "text/plain": [
       "{u'Age': -0.02223859791843772,\n",
       " u'Age Youngest Child': 0.03644204180816866,\n",
       " u'Average Balance Feed Index': 0.0008531156823346145,\n",
       " u'Gender.F': -0.09022080491288942,\n",
       " u'Gender.M': 0.08981365838344052,\n",
       " u'Household Debt to Equity Ratio': 0.03512719188974675,\n",
       " u'Intercept': -6.115759615746573,\n",
       " u'Marital Status.M': 0.26710277016797107,\n",
       " u'Marital Status.S': -0.5513606369130026,\n",
       " u'Marital Status.U': 0.0,\n",
       " u'Members Within Household': 0.1304961914870596,\n",
       " u'Months Current Account': -0.012678826203071947,\n",
       " u'Months as a Customer': 0.013951916046104013,\n",
       " u'Number of Call Center Contacts': 0.013514313899694845,\n",
       " u'Number of Loan Accounts': -0.19304752442581696,\n",
       " u'Number of Products': 0.08329443398317715,\n",
       " u'Number of Transactions': -0.2614671037201557,\n",
       " u'Number of Workers in Household': -0.0021781209721636256,\n",
       " u'Percentage White Collar Workers': 0.0023717755458215065,\n",
       " u'Personal Debt to Equity Ratio': -0.02223859791843702,\n",
       " u'RFM Score': 0.21946020430633986}"
      ]
     },
     "execution_count": 13,
     "metadata": {},
     "output_type": "execute_result"
    }
   ],
   "source": [
    "model1.coef()"
   ]
  },
  {
   "cell_type": "markdown",
   "metadata": {
    "deletable": true,
    "editable": true
   },
   "source": [
    "Now, I will compute how change the probability of reponsing in a positve way (Response = 1) depending on the number of transactions:"
   ]
  },
  {
   "cell_type": "code",
   "execution_count": 14,
   "metadata": {
    "collapsed": false,
    "deletable": true,
    "editable": true
   },
   "outputs": [
    {
     "name": "stdout",
     "output_type": "stream",
     "text": [
      "PartialDependencePlot progress: |█████████████████████████████████████████| 100%\n",
      "PartialDependence: Partial Dependence Plot of model GLM_model_python_1491299210527_1 on column 'Number of Transactions'\n",
      "\n"
     ]
    },
    {
     "data": {
      "text/html": [
       "<div style=\"overflow:auto\"><table style=\"width:50%\"><tr><td><b>number_of_transactions</b></td>\n",
       "<td><b>mean_response</b></td>\n",
       "<td><b>stddev_response</b></td></tr>\n",
       "<tr><td>0.0</td>\n",
       "<td>0.1001185</td>\n",
       "<td>0.2168059</td></tr>\n",
       "<tr><td>1.5789474</td>\n",
       "<td>0.0843838</td>\n",
       "<td>0.2092098</td></tr>\n",
       "<tr><td>3.1578947</td>\n",
       "<td>0.0721320</td>\n",
       "<td>0.2018869</td></tr>\n",
       "<tr><td>4.7368421</td>\n",
       "<td>0.0624943</td>\n",
       "<td>0.1944726</td></tr>\n",
       "<tr><td>6.3157895</td>\n",
       "<td>0.0547570</td>\n",
       "<td>0.1866946</td></tr>\n",
       "<tr><td>7.8947368</td>\n",
       "<td>0.0483619</td>\n",
       "<td>0.1783544</td></tr>\n",
       "<tr><td>9.4736842</td>\n",
       "<td>0.0428913</td>\n",
       "<td>0.1693264</td></tr>\n",
       "<tr><td>11.0526316</td>\n",
       "<td>0.0380469</td>\n",
       "<td>0.1595535</td></tr>\n",
       "<tr><td>12.6315789</td>\n",
       "<td>0.0336289</td>\n",
       "<td>0.1490335</td></tr>\n",
       "<tr><td>14.2105263</td>\n",
       "<td>0.0295144</td>\n",
       "<td>0.1378155</td></tr>\n",
       "<tr><td>15.7894737</td>\n",
       "<td>0.0256411</td>\n",
       "<td>0.1260156</td></tr>\n",
       "<tr><td>17.3684211</td>\n",
       "<td>0.0219924</td>\n",
       "<td>0.1138317</td></tr>\n",
       "<tr><td>18.9473684</td>\n",
       "<td>0.0185849</td>\n",
       "<td>0.1015329</td></tr>\n",
       "<tr><td>20.5263158</td>\n",
       "<td>0.0154529</td>\n",
       "<td>0.0894183</td></tr>\n",
       "<tr><td>22.1052632</td>\n",
       "<td>0.0126327</td>\n",
       "<td>0.0777623</td></tr>\n",
       "<tr><td>23.6842105</td>\n",
       "<td>0.0101507</td>\n",
       "<td>0.0667703</td></tr>\n",
       "<tr><td>25.2631579</td>\n",
       "<td>0.0080159</td>\n",
       "<td>0.0565629</td></tr>\n",
       "<tr><td>26.8421053</td>\n",
       "<td>0.0062201</td>\n",
       "<td>0.0471939</td></tr>\n",
       "<tr><td>28.4210526</td>\n",
       "<td>0.0047410</td>\n",
       "<td>0.0386811</td></tr>\n",
       "<tr><td>30.0</td>\n",
       "<td>0.0035477</td>\n",
       "<td>0.0310366</td></tr></table></div>"
      ],
      "text/plain": [
       "number_of_transactions    mean_response    stddev_response\n",
       "------------------------  ---------------  -----------------\n",
       "0                         0.100118         0.216806\n",
       "1.57895                   0.0843838        0.20921\n",
       "3.15789                   0.072132         0.201887\n",
       "4.73684                   0.0624943        0.194473\n",
       "6.31579                   0.054757         0.186695\n",
       "7.89474                   0.0483619        0.178354\n",
       "9.47368                   0.0428913        0.169326\n",
       "11.0526                   0.0380469        0.159554\n",
       "12.6316                   0.0336289        0.149033\n",
       "14.2105                   0.0295144        0.137815\n",
       "15.7895                   0.0256411        0.126016\n",
       "17.3684                   0.0219924        0.113832\n",
       "18.9474                   0.0185849        0.101533\n",
       "20.5263                   0.0154529        0.0894183\n",
       "22.1053                   0.0126327        0.0777623\n",
       "23.6842                   0.0101507        0.0667703\n",
       "25.2632                   0.0080159        0.0565629\n",
       "26.8421                   0.00622007       0.0471939\n",
       "28.4211                   0.00474096       0.0386811\n",
       "30                        0.00354765       0.0310366"
      ]
     },
     "metadata": {},
     "output_type": "display_data"
    },
    {
     "data": {
      "text/plain": [
       "[]"
      ]
     },
     "execution_count": 14,
     "metadata": {},
     "output_type": "execute_result"
    }
   ],
   "source": [
    "model1.partial_plot(train, cols = ['Number of Transactions'])"
   ]
  },
  {
   "cell_type": "markdown",
   "metadata": {
    "deletable": true,
    "editable": true
   },
   "source": [
    "## Gradient Boosting\n",
    "\n",
    "> GradientBoostingEstimator()\n",
    "\n",
    "Inside the GradientBoostingEstimator() you can include lots of parameters to fit correctly the model; some of them:\n",
    "\n",
    "    1. Distribution function\n",
    "    can be: \"auto\" (Default), \"bernoulli\", \"multinomial\", \"gaussian\", \"poisson\", \"gamma\", \"tweedie\", \"laplace\", \"quantile\", \"huber\"\n",
    "    \n",
    "    2.  learn_rate\n",
    "    Learning rate from 0 to 1 (default is 0.1)\n",
    "    \n",
    "    3.  max_depth\n",
    "    Maximum tree depth.\n",
    "    \n",
    "    4.  ntrees\n",
    "    Number of trees.\n",
    "\n",
    "\n",
    "> model2.train(x=None, y=None, training_frame=None, offset_column=None, fold_column=None, weights_column=None, validation_frame=None, max_runtime_secs=None, ignored_columns=None, model_id=None)\n",
    "\n",
    "- x: A list of column names or indices indicating the predictor columns.\n",
    "- y: An index or a column name indicating the response column.\n",
    "- training_frame: the data frame\n",
    "- validation_frame: H2OFrame with validation data to be scored on while training.\n"
   ]
  },
  {
   "cell_type": "code",
   "execution_count": 15,
   "metadata": {
    "collapsed": true,
    "deletable": true,
    "editable": true
   },
   "outputs": [],
   "source": [
    "from h2o.estimators.gbm import H2OGradientBoostingEstimator"
   ]
  },
  {
   "cell_type": "code",
   "execution_count": 16,
   "metadata": {
    "collapsed": false,
    "deletable": true,
    "editable": true
   },
   "outputs": [
    {
     "name": "stdout",
     "output_type": "stream",
     "text": [
      "gbm Model Build progress: |███████████████████████████████████████████████| 100%\n"
     ]
    }
   ],
   "source": [
    "model2 = H2OGradientBoostingEstimator(distribution = 'bernoulli', ntrees = 20, learn_rate = .2)\n",
    "model2.train(x = train.names[0:17], y = 'Response', training_frame=train, validation_frame=test)"
   ]
  },
  {
   "cell_type": "code",
   "execution_count": 17,
   "metadata": {
    "collapsed": false,
    "deletable": true,
    "editable": true
   },
   "outputs": [
    {
     "name": "stdout",
     "output_type": "stream",
     "text": [
      "Model Summary: \n"
     ]
    },
    {
     "data": {
      "text/html": [
       "<div style=\"overflow:auto\"><table style=\"width:50%\"><tr><td><b></b></td>\n",
       "<td><b>number_of_trees</b></td>\n",
       "<td><b>number_of_internal_trees</b></td>\n",
       "<td><b>model_size_in_bytes</b></td>\n",
       "<td><b>min_depth</b></td>\n",
       "<td><b>max_depth</b></td>\n",
       "<td><b>mean_depth</b></td>\n",
       "<td><b>min_leaves</b></td>\n",
       "<td><b>max_leaves</b></td>\n",
       "<td><b>mean_leaves</b></td></tr>\n",
       "<tr><td></td>\n",
       "<td>20.0</td>\n",
       "<td>20.0</td>\n",
       "<td>6173.0</td>\n",
       "<td>5.0</td>\n",
       "<td>5.0</td>\n",
       "<td>5.0</td>\n",
       "<td>9.0</td>\n",
       "<td>24.0</td>\n",
       "<td>17.2</td></tr></table></div>"
      ],
      "text/plain": [
       "    number_of_trees    number_of_internal_trees    model_size_in_bytes    min_depth    max_depth    mean_depth    min_leaves    max_leaves    mean_leaves\n",
       "--  -----------------  --------------------------  ---------------------  -----------  -----------  ------------  ------------  ------------  -------------\n",
       "    20                 20                          6173                   5            5            5             9             24            17.2"
      ]
     },
     "metadata": {},
     "output_type": "display_data"
    },
    {
     "data": {
      "text/plain": []
     },
     "execution_count": 17,
     "metadata": {},
     "output_type": "execute_result"
    }
   ],
   "source": [
    "model2.summary()"
   ]
  },
  {
   "cell_type": "code",
   "execution_count": 18,
   "metadata": {
    "collapsed": false,
    "deletable": true,
    "editable": true
   },
   "outputs": [
    {
     "name": "stdout",
     "output_type": "stream",
     "text": [
      "The AUC for Train is: 0.974385029707\n",
      "The AUC for Test is: 0.786706349206\n",
      "  There is clearly overfitting!\n"
     ]
    }
   ],
   "source": [
    "model2_auc_train  = model2.auc(train = True)\n",
    "model2_auc_test = model2.auc(valid = True)\n",
    "print 'The AUC for Train is:', model2_auc_train\n",
    "print 'The AUC for Test is:', model2_auc_test\n",
    "print '  There is clearly overfitting!'"
   ]
  },
  {
   "cell_type": "markdown",
   "metadata": {
    "deletable": true,
    "editable": true
   },
   "source": [
    "Now, I will try to find out the parameters like number of trees, the maximum depth, ...\n",
    "I will do a grid search to find the best parameters for my model:"
   ]
  },
  {
   "cell_type": "markdown",
   "metadata": {
    "deletable": true,
    "editable": true
   },
   "source": [
    "> H2OGridSearch(self, model, hyper_params, grid_id=None, search_criteria=None)\n",
    "\n",
    "- model: The type of model to be explored\n",
    "- hyper_params: A dictionary of string parameters (keys) and a list of values to be explored by grid search (values).\n",
    "- search_criteria:  A dictionary of directives which control the search of the hyperparameter space."
   ]
  },
  {
   "cell_type": "code",
   "execution_count": 19,
   "metadata": {
    "collapsed": false,
    "deletable": true,
    "editable": true
   },
   "outputs": [],
   "source": [
    "from h2o.grid.grid_search import H2OGridSearch\n",
    "\n",
    "ntrees_options = [5,50,100]\n",
    "max_depth_options = [2,3,6]\n",
    "learn_rate_options = [0.1,0.4]\n",
    "\n",
    "hyper_params = {'ntrees': ntrees_options, \n",
    "                'max_depth': max_depth_options,\n",
    "                'learn_rate': learn_rate_options}"
   ]
  },
  {
   "cell_type": "code",
   "execution_count": 20,
   "metadata": {
    "collapsed": false,
    "deletable": true,
    "editable": true
   },
   "outputs": [],
   "source": [
    "model3 = H2OGridSearch(H2OGradientBoostingEstimator, hyper_params = hyper_params)"
   ]
  },
  {
   "cell_type": "markdown",
   "metadata": {
    "deletable": true,
    "editable": true
   },
   "source": [
    "The same arguments like other models:\n",
    "> model3.train(x=None, y=None, training_frame=None, offset_column=None, fold_column=None, weights_column=None, validation_frame=None, max_runtime_secs=None, ignored_columns=None, model_id=None)"
   ]
  },
  {
   "cell_type": "code",
   "execution_count": 21,
   "metadata": {
    "collapsed": false,
    "deletable": true,
    "editable": true
   },
   "outputs": [
    {
     "name": "stdout",
     "output_type": "stream",
     "text": [
      "gbm Grid Build progress: |████████████████████████████████████████████████| 100%\n"
     ]
    }
   ],
   "source": [
    "model3.train(x = train.names[0:17], y = 'Response', training_frame=train, validation_frame=test)"
   ]
  },
  {
   "cell_type": "code",
   "execution_count": 22,
   "metadata": {
    "collapsed": false,
    "deletable": true,
    "editable": true
   },
   "outputs": [
    {
     "name": "stdout",
     "output_type": "stream",
     "text": [
      "\n",
      "Grid Summary:\n",
      "\n"
     ]
    },
    {
     "data": {
      "text/html": [
       "<div style=\"overflow:auto\"><table style=\"width:50%\"><tr><td><b>Model Id</b></td>\n",
       "<td><b>number_of_trees</b></td>\n",
       "<td><b>number_of_internal_trees</b></td>\n",
       "<td><b>model_size_in_bytes</b></td>\n",
       "<td><b>min_depth</b></td>\n",
       "<td><b>max_depth</b></td>\n",
       "<td><b>mean_depth</b></td>\n",
       "<td><b>min_leaves</b></td>\n",
       "<td><b>max_leaves</b></td>\n",
       "<td><b>mean_leaves</b></td></tr>\n",
       "<tr><td>Grid_GBM_py_15_sid_b5ce_model_python_1491299210527_109_model_12</td>\n",
       "<td>100.0</td>\n",
       "<td>100.0</td>\n",
       "<td>14035.0</td>\n",
       "<td>2.0</td>\n",
       "<td>2.0</td>\n",
       "<td>2.0</td>\n",
       "<td>3.0</td>\n",
       "<td>4.0</td>\n",
       "<td>3.79</td></tr>\n",
       "<tr><td>Grid_GBM_py_15_sid_b5ce_model_python_1491299210527_109_model_6</td>\n",
       "<td>50.0</td>\n",
       "<td>50.0</td>\n",
       "<td>7028.0</td>\n",
       "<td>2.0</td>\n",
       "<td>2.0</td>\n",
       "<td>2.0</td>\n",
       "<td>3.0</td>\n",
       "<td>4.0</td>\n",
       "<td>3.82</td></tr>\n",
       "<tr><td>Grid_GBM_py_15_sid_b5ce_model_python_1491299210527_109_model_8</td>\n",
       "<td>50.0</td>\n",
       "<td>50.0</td>\n",
       "<td>8987.0</td>\n",
       "<td>3.0</td>\n",
       "<td>3.0</td>\n",
       "<td>3.0</td>\n",
       "<td>5.0</td>\n",
       "<td>8.0</td>\n",
       "<td>6.96</td></tr>\n",
       "<tr><td>Grid_GBM_py_15_sid_b5ce_model_python_1491299210527_109_model_7</td>\n",
       "<td>50.0</td>\n",
       "<td>50.0</td>\n",
       "<td>7029.0</td>\n",
       "<td>2.0</td>\n",
       "<td>2.0</td>\n",
       "<td>2.0</td>\n",
       "<td>3.0</td>\n",
       "<td>4.0</td>\n",
       "<td>3.82</td></tr>\n",
       "<tr><td>Grid_GBM_py_15_sid_b5ce_model_python_1491299210527_109_model_14</td>\n",
       "<td>100.0</td>\n",
       "<td>100.0</td>\n",
       "<td>17825.0</td>\n",
       "<td>3.0</td>\n",
       "<td>3.0</td>\n",
       "<td>3.0</td>\n",
       "<td>4.0</td>\n",
       "<td>8.0</td>\n",
       "<td>6.82</td></tr>\n",
       "<tr><td>Grid_GBM_py_15_sid_b5ce_model_python_1491299210527_109_model_4</td>\n",
       "<td>5.0</td>\n",
       "<td>5.0</td>\n",
       "<td>2174.0</td>\n",
       "<td>6.0</td>\n",
       "<td>6.0</td>\n",
       "<td>6.0</td>\n",
       "<td>23.0</td>\n",
       "<td>31.0</td>\n",
       "<td>27.2</td></tr>\n",
       "<tr><td>Grid_GBM_py_15_sid_b5ce_model_python_1491299210527_109_model_3</td>\n",
       "<td>5.0</td>\n",
       "<td>5.0</td>\n",
       "<td>813.0</td>\n",
       "<td>3.0</td>\n",
       "<td>3.0</td>\n",
       "<td>3.0</td>\n",
       "<td>4.0</td>\n",
       "<td>8.0</td>\n",
       "<td>5.6</td></tr>\n",
       "<tr><td>Grid_GBM_py_15_sid_b5ce_model_python_1491299210527_109_model_2</td>\n",
       "<td>5.0</td>\n",
       "<td>5.0</td>\n",
       "<td>935.0</td>\n",
       "<td>3.0</td>\n",
       "<td>3.0</td>\n",
       "<td>3.0</td>\n",
       "<td>7.0</td>\n",
       "<td>8.0</td>\n",
       "<td>7.6</td></tr>\n",
       "<tr><td>Grid_GBM_py_15_sid_b5ce_model_python_1491299210527_109_model_1</td>\n",
       "<td>5.0</td>\n",
       "<td>5.0</td>\n",
       "<td>686.0</td>\n",
       "<td>2.0</td>\n",
       "<td>2.0</td>\n",
       "<td>2.0</td>\n",
       "<td>3.0</td>\n",
       "<td>4.0</td>\n",
       "<td>3.6</td></tr>\n",
       "<tr><td>Grid_GBM_py_15_sid_b5ce_model_python_1491299210527_109_model_0</td>\n",
       "<td>5.0</td>\n",
       "<td>5.0</td>\n",
       "<td>710.0</td>\n",
       "<td>2.0</td>\n",
       "<td>2.0</td>\n",
       "<td>2.0</td>\n",
       "<td>4.0</td>\n",
       "<td>4.0</td>\n",
       "<td>4.0</td></tr>\n",
       "<tr><td>Grid_GBM_py_15_sid_b5ce_model_python_1491299210527_109_model_13</td>\n",
       "<td>100.0</td>\n",
       "<td>100.0</td>\n",
       "<td>14043.0</td>\n",
       "<td>2.0</td>\n",
       "<td>2.0</td>\n",
       "<td>2.0</td>\n",
       "<td>3.0</td>\n",
       "<td>4.0</td>\n",
       "<td>3.8</td></tr>\n",
       "<tr><td>Grid_GBM_py_15_sid_b5ce_model_python_1491299210527_109_model_10</td>\n",
       "<td>50.0</td>\n",
       "<td>50.0</td>\n",
       "<td>19589.0</td>\n",
       "<td>6.0</td>\n",
       "<td>6.0</td>\n",
       "<td>6.0</td>\n",
       "<td>8.0</td>\n",
       "<td>41.0</td>\n",
       "<td>23.72</td></tr>\n",
       "<tr><td>Grid_GBM_py_15_sid_b5ce_model_python_1491299210527_109_model_5</td>\n",
       "<td>5.0</td>\n",
       "<td>5.0</td>\n",
       "<td>1666.0</td>\n",
       "<td>6.0</td>\n",
       "<td>6.0</td>\n",
       "<td>6.0</td>\n",
       "<td>13.0</td>\n",
       "<td>27.0</td>\n",
       "<td>19.2</td></tr>\n",
       "<tr><td>Grid_GBM_py_15_sid_b5ce_model_python_1491299210527_109_model_9</td>\n",
       "<td>50.0</td>\n",
       "<td>50.0</td>\n",
       "<td>8790.0</td>\n",
       "<td>3.0</td>\n",
       "<td>3.0</td>\n",
       "<td>3.0</td>\n",
       "<td>4.0</td>\n",
       "<td>8.0</td>\n",
       "<td>6.62</td></tr>\n",
       "<tr><td>Grid_GBM_py_15_sid_b5ce_model_python_1491299210527_109_model_16</td>\n",
       "<td>100.0</td>\n",
       "<td>100.0</td>\n",
       "<td>40249.0</td>\n",
       "<td>6.0</td>\n",
       "<td>6.0</td>\n",
       "<td>6.0</td>\n",
       "<td>7.0</td>\n",
       "<td>44.0</td>\n",
       "<td>24.55</td></tr>\n",
       "<tr><td>Grid_GBM_py_15_sid_b5ce_model_python_1491299210527_109_model_15</td>\n",
       "<td>100.0</td>\n",
       "<td>100.0</td>\n",
       "<td>17635.0</td>\n",
       "<td>3.0</td>\n",
       "<td>3.0</td>\n",
       "<td>3.0</td>\n",
       "<td>4.0</td>\n",
       "<td>8.0</td>\n",
       "<td>6.67</td></tr>\n",
       "<tr><td>Grid_GBM_py_15_sid_b5ce_model_python_1491299210527_109_model_11</td>\n",
       "<td>50.0</td>\n",
       "<td>50.0</td>\n",
       "<td>19646.0</td>\n",
       "<td>6.0</td>\n",
       "<td>6.0</td>\n",
       "<td>6.0</td>\n",
       "<td>9.0</td>\n",
       "<td>42.0</td>\n",
       "<td>23.84</td></tr>\n",
       "<tr><td>Grid_GBM_py_15_sid_b5ce_model_python_1491299210527_109_model_17</td>\n",
       "<td>100.0</td>\n",
       "<td>100.0</td>\n",
       "<td>27891.0</td>\n",
       "<td>0.0</td>\n",
       "<td>6.0</td>\n",
       "<td>3.55</td>\n",
       "<td>1.0</td>\n",
       "<td>43.0</td>\n",
       "<td>14.67</td></tr></table></div>"
      ],
      "text/plain": [
       "Model Id                                                         number_of_trees    number_of_internal_trees    model_size_in_bytes    min_depth    max_depth    mean_depth    min_leaves    max_leaves    mean_leaves\n",
       "---------------------------------------------------------------  -----------------  --------------------------  ---------------------  -----------  -----------  ------------  ------------  ------------  -------------\n",
       "Grid_GBM_py_15_sid_b5ce_model_python_1491299210527_109_model_12  100                100                         14035                  2            2            2             3             4             3.79\n",
       "Grid_GBM_py_15_sid_b5ce_model_python_1491299210527_109_model_6   50                 50                          7028                   2            2            2             3             4             3.82\n",
       "Grid_GBM_py_15_sid_b5ce_model_python_1491299210527_109_model_8   50                 50                          8987                   3            3            3             5             8             6.96\n",
       "Grid_GBM_py_15_sid_b5ce_model_python_1491299210527_109_model_7   50                 50                          7029                   2            2            2             3             4             3.82\n",
       "Grid_GBM_py_15_sid_b5ce_model_python_1491299210527_109_model_14  100                100                         17825                  3            3            3             4             8             6.82\n",
       "Grid_GBM_py_15_sid_b5ce_model_python_1491299210527_109_model_4   5                  5                           2174                   6            6            6             23            31            27.2\n",
       "Grid_GBM_py_15_sid_b5ce_model_python_1491299210527_109_model_3   5                  5                           813                    3            3            3             4             8             5.6\n",
       "Grid_GBM_py_15_sid_b5ce_model_python_1491299210527_109_model_2   5                  5                           935                    3            3            3             7             8             7.6\n",
       "Grid_GBM_py_15_sid_b5ce_model_python_1491299210527_109_model_1   5                  5                           686                    2            2            2             3             4             3.6\n",
       "Grid_GBM_py_15_sid_b5ce_model_python_1491299210527_109_model_0   5                  5                           710                    2            2            2             4             4             4\n",
       "Grid_GBM_py_15_sid_b5ce_model_python_1491299210527_109_model_13  100                100                         14043                  2            2            2             3             4             3.8\n",
       "Grid_GBM_py_15_sid_b5ce_model_python_1491299210527_109_model_10  50                 50                          19589                  6            6            6             8             41            23.72\n",
       "Grid_GBM_py_15_sid_b5ce_model_python_1491299210527_109_model_5   5                  5                           1666                   6            6            6             13            27            19.2\n",
       "Grid_GBM_py_15_sid_b5ce_model_python_1491299210527_109_model_9   50                 50                          8790                   3            3            3             4             8             6.62\n",
       "Grid_GBM_py_15_sid_b5ce_model_python_1491299210527_109_model_16  100                100                         40249                  6            6            6             7             44            24.55\n",
       "Grid_GBM_py_15_sid_b5ce_model_python_1491299210527_109_model_15  100                100                         17635                  3            3            3             4             8             6.67\n",
       "Grid_GBM_py_15_sid_b5ce_model_python_1491299210527_109_model_11  50                 50                          19646                  6            6            6             9             42            23.84\n",
       "Grid_GBM_py_15_sid_b5ce_model_python_1491299210527_109_model_17  100                100                         27891                  0            6            3.55          1             43            14.67"
      ]
     },
     "metadata": {},
     "output_type": "display_data"
    }
   ],
   "source": [
    "model3.summary()"
   ]
  },
  {
   "cell_type": "code",
   "execution_count": 23,
   "metadata": {
    "collapsed": false,
    "deletable": true,
    "editable": true
   },
   "outputs": [
    {
     "name": "stdout",
     "output_type": "stream",
     "text": [
      "AUC for train:\n"
     ]
    },
    {
     "data": {
      "text/html": [
       "<div>\n",
       "<table border=\"1\" class=\"dataframe\">\n",
       "  <thead>\n",
       "    <tr style=\"text-align: right;\">\n",
       "      <th></th>\n",
       "      <th>Train</th>\n",
       "      <th>Test</th>\n",
       "    </tr>\n",
       "  </thead>\n",
       "  <tbody>\n",
       "    <tr>\n",
       "      <th>0</th>\n",
       "      <td>0.998112</td>\n",
       "      <td>0.774399</td>\n",
       "    </tr>\n",
       "    <tr>\n",
       "      <th>1</th>\n",
       "      <td>0.994575</td>\n",
       "      <td>0.819364</td>\n",
       "    </tr>\n",
       "    <tr>\n",
       "      <th>2</th>\n",
       "      <td>0.969721</td>\n",
       "      <td>0.800166</td>\n",
       "    </tr>\n",
       "    <tr>\n",
       "      <th>3</th>\n",
       "      <td>0.925035</td>\n",
       "      <td>0.860119</td>\n",
       "    </tr>\n",
       "    <tr>\n",
       "      <th>4</th>\n",
       "      <td>0.997473</td>\n",
       "      <td>0.773515</td>\n",
       "    </tr>\n",
       "    <tr>\n",
       "      <th>5</th>\n",
       "      <td>0.964551</td>\n",
       "      <td>0.832985</td>\n",
       "    </tr>\n",
       "    <tr>\n",
       "      <th>6</th>\n",
       "      <td>0.998112</td>\n",
       "      <td>0.784159</td>\n",
       "    </tr>\n",
       "    <tr>\n",
       "      <th>7</th>\n",
       "      <td>0.997868</td>\n",
       "      <td>0.813331</td>\n",
       "    </tr>\n",
       "    <tr>\n",
       "      <th>8</th>\n",
       "      <td>0.982828</td>\n",
       "      <td>0.769734</td>\n",
       "    </tr>\n",
       "    <tr>\n",
       "      <th>9</th>\n",
       "      <td>0.936029</td>\n",
       "      <td>0.843844</td>\n",
       "    </tr>\n",
       "    <tr>\n",
       "      <th>10</th>\n",
       "      <td>0.948490</td>\n",
       "      <td>0.797592</td>\n",
       "    </tr>\n",
       "    <tr>\n",
       "      <th>11</th>\n",
       "      <td>0.949259</td>\n",
       "      <td>0.832368</td>\n",
       "    </tr>\n",
       "    <tr>\n",
       "      <th>12</th>\n",
       "      <td>0.948620</td>\n",
       "      <td>0.813063</td>\n",
       "    </tr>\n",
       "    <tr>\n",
       "      <th>13</th>\n",
       "      <td>0.897640</td>\n",
       "      <td>0.864221</td>\n",
       "    </tr>\n",
       "    <tr>\n",
       "      <th>14</th>\n",
       "      <td>0.846896</td>\n",
       "      <td>0.834379</td>\n",
       "    </tr>\n",
       "    <tr>\n",
       "      <th>15</th>\n",
       "      <td>0.817788</td>\n",
       "      <td>0.793544</td>\n",
       "    </tr>\n",
       "    <tr>\n",
       "      <th>16</th>\n",
       "      <td>0.870656</td>\n",
       "      <td>0.838160</td>\n",
       "    </tr>\n",
       "    <tr>\n",
       "      <th>17</th>\n",
       "      <td>0.864629</td>\n",
       "      <td>0.838106</td>\n",
       "    </tr>\n",
       "  </tbody>\n",
       "</table>\n",
       "</div>"
      ],
      "text/plain": [
       "       Train      Test\n",
       "0   0.998112  0.774399\n",
       "1   0.994575  0.819364\n",
       "2   0.969721  0.800166\n",
       "3   0.925035  0.860119\n",
       "4   0.997473  0.773515\n",
       "5   0.964551  0.832985\n",
       "6   0.998112  0.784159\n",
       "7   0.997868  0.813331\n",
       "8   0.982828  0.769734\n",
       "9   0.936029  0.843844\n",
       "10  0.948490  0.797592\n",
       "11  0.949259  0.832368\n",
       "12  0.948620  0.813063\n",
       "13  0.897640  0.864221\n",
       "14  0.846896  0.834379\n",
       "15  0.817788  0.793544\n",
       "16  0.870656  0.838160\n",
       "17  0.864629  0.838106"
      ]
     },
     "execution_count": 23,
     "metadata": {},
     "output_type": "execute_result"
    }
   ],
   "source": [
    "print 'AUC for train:'\n",
    "gr = pd.DataFrame(zip(model3.auc(train = True).values(),model3.auc(valid=True).values()),\n",
    "                  columns=['Train','Test'])\n",
    "gr"
   ]
  },
  {
   "cell_type": "code",
   "execution_count": 24,
   "metadata": {
    "collapsed": false,
    "deletable": true,
    "editable": true,
    "scrolled": true
   },
   "outputs": [
    {
     "data": {
      "text/plain": [
       "<matplotlib.text.Text at 0x7f40ad204b90>"
      ]
     },
     "execution_count": 24,
     "metadata": {},
     "output_type": "execute_result"
    },
    {
     "data": {
      "image/png": "[encoded data removed]",
      "text/plain": [
       "<matplotlib.figure.Figure at 0x7f40ad345910>"
      ]
     },
     "metadata": {},
     "output_type": "display_data"
    }
   ],
   "source": [
    "import matplotlib.pyplot as plt\n",
    "%matplotlib inline\n",
    "plt.plot(gr.index, gr['Train'], label = 'Train')\n",
    "plt.plot(gr.index, gr['Test'], label = 'Test')\n",
    "plt.legend(loc = 0)\n",
    "plt.xlabel('Different combinations')\n",
    "plt.ylabel('AUC')"
   ]
  },
  {
   "cell_type": "markdown",
   "metadata": {
    "deletable": true,
    "editable": true
   },
   "source": [
    "## Random Forest"
   ]
  },
  {
   "cell_type": "markdown",
   "metadata": {
    "deletable": true,
    "editable": true
   },
   "source": [
    "Posible arguments:\n",
    "\n",
    "    1. balance_classes\n",
    "    Balance training data class counts via over/under-sampling (for imbalanced data). (True or False(Default))\n",
    "        \n",
    "    2. ntrees\n",
    "    Number of trees.\n",
    "    \n",
    "    3. max_depth\n",
    "\n",
    "    Maximum tree depth."
   ]
  },
  {
   "cell_type": "code",
   "execution_count": 25,
   "metadata": {
    "collapsed": true,
    "deletable": true,
    "editable": true
   },
   "outputs": [],
   "source": [
    "from h2o.estimators.random_forest import H2ORandomForestEstimator"
   ]
  },
  {
   "cell_type": "code",
   "execution_count": 26,
   "metadata": {
    "collapsed": false,
    "deletable": true,
    "editable": true
   },
   "outputs": [
    {
     "name": "stdout",
     "output_type": "stream",
     "text": [
      "drf Model Build progress: |███████████████████████████████████████████████| 100%\n"
     ]
    }
   ],
   "source": [
    "model4 = H2ORandomForestEstimator(max_depth = 2, ntrees = 40, balance_classes = False)\n",
    "model4.train(x = train.names[0:17], y = 'Response', training_frame=train, validation_frame=test)"
   ]
  },
  {
   "cell_type": "code",
   "execution_count": 27,
   "metadata": {
    "collapsed": false,
    "deletable": true,
    "editable": true
   },
   "outputs": [
    {
     "name": "stdout",
     "output_type": "stream",
     "text": [
      "The AUC for Train is: 0.817091454273\n",
      "The AUC for Test is: 0.847436722437\n"
     ]
    }
   ],
   "source": [
    "model4_auc_train  = model4.auc(train = True)\n",
    "model4_auc_test = model4.auc(valid = True)\n",
    "print 'The AUC for Train is:', model4_auc_train\n",
    "print 'The AUC for Test is:', model4_auc_test"
   ]
  },
  {
   "cell_type": "markdown",
   "metadata": {
    "collapsed": true,
    "deletable": true,
    "editable": true
   },
   "source": [
    "## Deep learning\n",
    "\n",
    "> H2ODeepLearningEstimator()\n",
    "\n",
    "    1. Activation function: One of: \"tanh\", \"tanh_with_dropout\", \"rectifier\", \"rectifier_with_dropout\", \"maxout\", \"maxout_with_dropout\" (default: \"rectifier\").\n",
    "    \n",
    "    2. adaptive_rate: Adaptive learning rate.True or False\n",
    "\n",
    "    3. autoencoder: Auto-Encoder. (True or False)\n",
    "\n",
    "    4. balance_classes: Balance training data class counts via over/under-sampling (for imbalanced data). \n",
    "    True or False\n",
    "    \n",
    "    5. L1: regularization (can add stability and improve generalization, causes many weights to become 0).Type: float (default: 0).\n",
    "    \n",
    "    6. L2: regularization (can add stability and improve generalization, causes many weights to be small.Type: float (default: 0).\n",
    "\n",
    "\n",
    "> model4.train(x=None, y=None, training_frame=None, offset_column=None, fold_column=None, weights_column=None, validation_frame=None, max_runtime_secs=None, ignored_columns=None, model_id=None)"
   ]
  },
  {
   "cell_type": "code",
   "execution_count": 31,
   "metadata": {
    "collapsed": false,
    "deletable": true,
    "editable": true
   },
   "outputs": [
    {
     "name": "stdout",
     "output_type": "stream",
     "text": [
      "deeplearning Model Build progress: |██████████████████████████████████████| 100%\n"
     ]
    }
   ],
   "source": [
    "from h2o.estimators.deeplearning import H2ODeepLearningEstimator\n",
    "model5 = H2ODeepLearningEstimator(activation = 'tanh', balance_classes = True)\n",
    "model5.train(x = train.names[0:17], y = 'Response', training_frame=train, validation_frame=test)"
   ]
  },
  {
   "cell_type": "code",
   "execution_count": 32,
   "metadata": {
    "collapsed": false,
    "deletable": true,
    "editable": true
   },
   "outputs": [
    {
     "name": "stdout",
     "output_type": "stream",
     "text": [
      "The AUC for Train is: 0.869919435886\n",
      "The AUC for Test is: 0.821294508795\n"
     ]
    }
   ],
   "source": [
    "model5_auc_train  = model5.auc(train = True)\n",
    "model5_auc_test = model5.auc(valid = True)\n",
    "print 'The AUC for Train is:', model5_auc_train\n",
    "print 'The AUC for Test is:', model5_auc_test\n",
    "\n"
   ]
  },
  {
   "cell_type": "code",
   "execution_count": 33,
   "metadata": {
    "collapsed": false,
    "deletable": true,
    "editable": true
   },
   "outputs": [
    {
     "name": "stdout",
     "output_type": "stream",
     "text": [
      "Status of Neuron Layers: predicting Response, 2-class classification, bernoulli distribution, CrossEntropy loss, 45.202 weights/biases, 543,9 KB, 40.030 training samples, mini-batch size 1\n",
      "\n"
     ]
    },
    {
     "data": {
      "text/html": [
       "<div style=\"overflow:auto\"><table style=\"width:50%\"><tr><td><b></b></td>\n",
       "<td><b>layer</b></td>\n",
       "<td><b>units</b></td>\n",
       "<td><b>type</b></td>\n",
       "<td><b>dropout</b></td>\n",
       "<td><b>l1</b></td>\n",
       "<td><b>l2</b></td>\n",
       "<td><b>mean_rate</b></td>\n",
       "<td><b>rate_rms</b></td>\n",
       "<td><b>momentum</b></td>\n",
       "<td><b>mean_weight</b></td>\n",
       "<td><b>weight_rms</b></td>\n",
       "<td><b>mean_bias</b></td>\n",
       "<td><b>bias_rms</b></td></tr>\n",
       "<tr><td></td>\n",
       "<td>1</td>\n",
       "<td>22</td>\n",
       "<td>Input</td>\n",
       "<td>0.0</td>\n",
       "<td></td>\n",
       "<td></td>\n",
       "<td></td>\n",
       "<td></td>\n",
       "<td></td>\n",
       "<td></td>\n",
       "<td></td>\n",
       "<td></td>\n",
       "<td></td></tr>\n",
       "<tr><td></td>\n",
       "<td>2</td>\n",
       "<td>200</td>\n",
       "<td>Tanh</td>\n",
       "<td>0.0</td>\n",
       "<td>0.0</td>\n",
       "<td>0.0</td>\n",
       "<td>0.0965089</td>\n",
       "<td>0.2825511</td>\n",
       "<td>0.0</td>\n",
       "<td>-0.0006399</td>\n",
       "<td>0.0978637</td>\n",
       "<td>0.0031985</td>\n",
       "<td>0.0393721</td></tr>\n",
       "<tr><td></td>\n",
       "<td>3</td>\n",
       "<td>200</td>\n",
       "<td>Tanh</td>\n",
       "<td>0.0</td>\n",
       "<td>0.0</td>\n",
       "<td>0.0</td>\n",
       "<td>0.2073239</td>\n",
       "<td>0.2943738</td>\n",
       "<td>0.0</td>\n",
       "<td>-0.0000038</td>\n",
       "<td>0.0744068</td>\n",
       "<td>-0.0063243</td>\n",
       "<td>0.0820260</td></tr>\n",
       "<tr><td></td>\n",
       "<td>4</td>\n",
       "<td>2</td>\n",
       "<td>Softmax</td>\n",
       "<td></td>\n",
       "<td>0.0</td>\n",
       "<td>0.0</td>\n",
       "<td>0.0042242</td>\n",
       "<td>0.0024954</td>\n",
       "<td>0.0</td>\n",
       "<td>0.0073971</td>\n",
       "<td>0.3713599</td>\n",
       "<td>-0.0000012</td>\n",
       "<td>0.1224562</td></tr></table></div>"
      ],
      "text/plain": [
       "    layer    units    type     dropout    l1    l2    mean_rate         rate_rms          momentum    mean_weight         weight_rms       mean_bias           bias_rms\n",
       "--  -------  -------  -------  ---------  ----  ----  ----------------  ----------------  ----------  ------------------  ---------------  ------------------  ---------------\n",
       "    1        22       Input    0.0\n",
       "    2        200      Tanh     0.0        0.0   0.0   0.096508852157    0.282551050186    0.0         -0.000639883402158  0.0978636741638  0.00319850782031    0.0393721461296\n",
       "    3        200      Tanh     0.0        0.0   0.0   0.207323911977    0.294373750687    0.0         -3.77267326303e-06  0.0744068026543  -0.00632428952221   0.0820260345936\n",
       "    4        2        Softmax             0.0   0.0   0.00422416155023  0.00249535962939  0.0         0.0073971439345     0.371359944344   -1.19301371499e-06  0.12245619297"
      ]
     },
     "metadata": {},
     "output_type": "display_data"
    },
    {
     "data": {
      "text/plain": []
     },
     "execution_count": 33,
     "metadata": {},
     "output_type": "execute_result"
    }
   ],
   "source": [
    "model5.summary()"
   ]
  },
  {
   "cell_type": "code",
   "execution_count": 34,
   "metadata": {
    "collapsed": false,
    "deletable": true,
    "editable": true
   },
   "outputs": [
    {
     "name": "stdout",
     "output_type": "stream",
     "text": [
      "\n",
      "ModelMetricsBinomial: deeplearning\n",
      "** Reported on train data. **\n",
      "\n",
      "MSE: 0.32891104652\n",
      "RMSE: 0.573507669103\n",
      "LogLoss: 1.70442715767\n",
      "Mean Per-Class Error: 0.206624709623\n",
      "AUC: 0.869919435886\n",
      "Gini: 0.739838871773\n",
      "Confusion Matrix (Act/Pred) for max f1 @ threshold = 0.000356278912612: \n"
     ]
    },
    {
     "data": {
      "text/html": [
       "<div style=\"overflow:auto\"><table style=\"width:50%\"><tr><td><b></b></td>\n",
       "<td><b>0</b></td>\n",
       "<td><b>1</b></td>\n",
       "<td><b>Error</b></td>\n",
       "<td><b>Rate</b></td></tr>\n",
       "<tr><td>0</td>\n",
       "<td>1272.0</td>\n",
       "<td>729.0</td>\n",
       "<td>0.3643</td>\n",
       "<td> (729.0/2001.0)</td></tr>\n",
       "<tr><td>1</td>\n",
       "<td>110.0</td>\n",
       "<td>1892.0</td>\n",
       "<td>0.0549</td>\n",
       "<td> (110.0/2002.0)</td></tr>\n",
       "<tr><td>Total</td>\n",
       "<td>1382.0</td>\n",
       "<td>2621.0</td>\n",
       "<td>0.2096</td>\n",
       "<td> (839.0/4003.0)</td></tr></table></div>"
      ],
      "text/plain": [
       "       0     1     Error    Rate\n",
       "-----  ----  ----  -------  --------------\n",
       "0      1272  729   0.3643   (729.0/2001.0)\n",
       "1      110   1892  0.0549   (110.0/2002.0)\n",
       "Total  1382  2621  0.2096   (839.0/4003.0)"
      ]
     },
     "metadata": {},
     "output_type": "display_data"
    },
    {
     "name": "stdout",
     "output_type": "stream",
     "text": [
      "Maximum Metrics: Maximum metrics at their respective thresholds\n",
      "\n"
     ]
    },
    {
     "data": {
      "text/html": [
       "<div style=\"overflow:auto\"><table style=\"width:50%\"><tr><td><b>metric</b></td>\n",
       "<td><b>threshold</b></td>\n",
       "<td><b>value</b></td>\n",
       "<td><b>idx</b></td></tr>\n",
       "<tr><td>max f1</td>\n",
       "<td>0.0003563</td>\n",
       "<td>0.8185161</td>\n",
       "<td>378.0</td></tr>\n",
       "<tr><td>max f2</td>\n",
       "<td>0.0003563</td>\n",
       "<td>0.8900179</td>\n",
       "<td>378.0</td></tr>\n",
       "<tr><td>max f0point5</td>\n",
       "<td>0.0625758</td>\n",
       "<td>0.7939334</td>\n",
       "<td>150.0</td></tr>\n",
       "<tr><td>max accuracy</td>\n",
       "<td>0.0006370</td>\n",
       "<td>0.7934049</td>\n",
       "<td>371.0</td></tr>\n",
       "<tr><td>max precision</td>\n",
       "<td>0.8752631</td>\n",
       "<td>0.9729730</td>\n",
       "<td>17.0</td></tr>\n",
       "<tr><td>max recall</td>\n",
       "<td>0.0000090</td>\n",
       "<td>1.0</td>\n",
       "<td>398.0</td></tr>\n",
       "<tr><td>max specificity</td>\n",
       "<td>0.9972884</td>\n",
       "<td>0.9995002</td>\n",
       "<td>0.0</td></tr>\n",
       "<tr><td>max absolute_mcc</td>\n",
       "<td>0.0003563</td>\n",
       "<td>0.6107277</td>\n",
       "<td>378.0</td></tr>\n",
       "<tr><td>max min_per_class_accuracy</td>\n",
       "<td>0.0024820</td>\n",
       "<td>0.7731134</td>\n",
       "<td>330.0</td></tr>\n",
       "<tr><td>max mean_per_class_accuracy</td>\n",
       "<td>0.0006370</td>\n",
       "<td>0.7933753</td>\n",
       "<td>371.0</td></tr></table></div>"
      ],
      "text/plain": [
       "metric                       threshold    value     idx\n",
       "---------------------------  -----------  --------  -----\n",
       "max f1                       0.000356279  0.818516  378\n",
       "max f2                       0.000356279  0.890018  378\n",
       "max f0point5                 0.0625758    0.793933  150\n",
       "max accuracy                 0.000636981  0.793405  371\n",
       "max precision                0.875263     0.972973  17\n",
       "max recall                   8.99882e-06  1         398\n",
       "max specificity              0.997288     0.9995    0\n",
       "max absolute_mcc             0.000356279  0.610728  378\n",
       "max min_per_class_accuracy   0.00248204   0.773113  330\n",
       "max mean_per_class_accuracy  0.000636981  0.793375  371"
      ]
     },
     "metadata": {},
     "output_type": "display_data"
    },
    {
     "name": "stdout",
     "output_type": "stream",
     "text": [
      "Gains/Lift Table: Avg response rate: 50,01 %\n",
      "\n"
     ]
    },
    {
     "data": {
      "text/html": [
       "<div style=\"overflow:auto\"><table style=\"width:50%\"><tr><td><b></b></td>\n",
       "<td><b>group</b></td>\n",
       "<td><b>cumulative_data_fraction</b></td>\n",
       "<td><b>lower_threshold</b></td>\n",
       "<td><b>lift</b></td>\n",
       "<td><b>cumulative_lift</b></td>\n",
       "<td><b>response_rate</b></td>\n",
       "<td><b>cumulative_response_rate</b></td>\n",
       "<td><b>capture_rate</b></td>\n",
       "<td><b>cumulative_capture_rate</b></td>\n",
       "<td><b>gain</b></td>\n",
       "<td><b>cumulative_gain</b></td></tr>\n",
       "<tr><td></td>\n",
       "<td>1</td>\n",
       "<td>0.0114914</td>\n",
       "<td>0.9858699</td>\n",
       "<td>1.9125657</td>\n",
       "<td>1.9125657</td>\n",
       "<td>0.9565217</td>\n",
       "<td>0.9565217</td>\n",
       "<td>0.0219780</td>\n",
       "<td>0.0219780</td>\n",
       "<td>91.2565695</td>\n",
       "<td>91.2565695</td></tr>\n",
       "<tr><td></td>\n",
       "<td>2</td>\n",
       "<td>0.0229828</td>\n",
       "<td>0.9801040</td>\n",
       "<td>1.9125657</td>\n",
       "<td>1.9125657</td>\n",
       "<td>0.9565217</td>\n",
       "<td>0.9565217</td>\n",
       "<td>0.0219780</td>\n",
       "<td>0.0439560</td>\n",
       "<td>91.2565695</td>\n",
       "<td>91.2565695</td></tr>\n",
       "<tr><td></td>\n",
       "<td>3</td>\n",
       "<td>0.0339745</td>\n",
       "<td>0.9740878</td>\n",
       "<td>1.9995005</td>\n",
       "<td>1.9406917</td>\n",
       "<td>1.0</td>\n",
       "<td>0.9705882</td>\n",
       "<td>0.0219780</td>\n",
       "<td>0.0659341</td>\n",
       "<td>99.9500499</td>\n",
       "<td>94.0691661</td></tr>\n",
       "<tr><td></td>\n",
       "<td>4</td>\n",
       "<td>0.0402198</td>\n",
       "<td>0.9508971</td>\n",
       "<td>1.8395405</td>\n",
       "<td>1.9249850</td>\n",
       "<td>0.92</td>\n",
       "<td>0.9627329</td>\n",
       "<td>0.0114885</td>\n",
       "<td>0.0774226</td>\n",
       "<td>83.9540460</td>\n",
       "<td>92.4984953</td></tr>\n",
       "<tr><td></td>\n",
       "<td>5</td>\n",
       "<td>0.0512116</td>\n",
       "<td>0.9388811</td>\n",
       "<td>1.9995005</td>\n",
       "<td>1.9409785</td>\n",
       "<td>1.0</td>\n",
       "<td>0.9707317</td>\n",
       "<td>0.0219780</td>\n",
       "<td>0.0994006</td>\n",
       "<td>99.9500499</td>\n",
       "<td>94.0978534</td></tr>\n",
       "<tr><td></td>\n",
       "<td>6</td>\n",
       "<td>0.1054209</td>\n",
       "<td>0.6989786</td>\n",
       "<td>1.8705005</td>\n",
       "<td>1.9047374</td>\n",
       "<td>0.9354839</td>\n",
       "<td>0.9526066</td>\n",
       "<td>0.1013986</td>\n",
       "<td>0.2007992</td>\n",
       "<td>87.0500467</td>\n",
       "<td>90.4737443</td></tr>\n",
       "<tr><td></td>\n",
       "<td>7</td>\n",
       "<td>0.1553835</td>\n",
       "<td>0.3555274</td>\n",
       "<td>1.7795554</td>\n",
       "<td>1.8644860</td>\n",
       "<td>0.89</td>\n",
       "<td>0.9324759</td>\n",
       "<td>0.0889111</td>\n",
       "<td>0.2897103</td>\n",
       "<td>77.9555445</td>\n",
       "<td>86.4485996</td></tr>\n",
       "<tr><td></td>\n",
       "<td>8</td>\n",
       "<td>0.2000999</td>\n",
       "<td>0.2131996</td>\n",
       "<td>1.7537518</td>\n",
       "<td>1.8397402</td>\n",
       "<td>0.8770950</td>\n",
       "<td>0.9200999</td>\n",
       "<td>0.0784216</td>\n",
       "<td>0.3681319</td>\n",
       "<td>75.3751835</td>\n",
       "<td>83.9740160</td></tr>\n",
       "<tr><td></td>\n",
       "<td>9</td>\n",
       "<td>0.3022733</td>\n",
       "<td>0.0654450</td>\n",
       "<td>1.6328439</td>\n",
       "<td>1.7698058</td>\n",
       "<td>0.8166259</td>\n",
       "<td>0.8851240</td>\n",
       "<td>0.1668332</td>\n",
       "<td>0.5349650</td>\n",
       "<td>63.2843929</td>\n",
       "<td>76.9805814</td></tr>\n",
       "<tr><td></td>\n",
       "<td>10</td>\n",
       "<td>0.4004497</td>\n",
       "<td>0.0104617</td>\n",
       "<td>1.2414202</td>\n",
       "<td>1.6402640</td>\n",
       "<td>0.6208651</td>\n",
       "<td>0.8203369</td>\n",
       "<td>0.1218781</td>\n",
       "<td>0.6568432</td>\n",
       "<td>24.1420157</td>\n",
       "<td>64.0263978</td></tr>\n",
       "<tr><td></td>\n",
       "<td>11</td>\n",
       "<td>0.5028728</td>\n",
       "<td>0.0024813</td>\n",
       "<td>1.1899466</td>\n",
       "<td>1.5485451</td>\n",
       "<td>0.5951220</td>\n",
       "<td>0.7744660</td>\n",
       "<td>0.1218781</td>\n",
       "<td>0.7787213</td>\n",
       "<td>18.9946639</td>\n",
       "<td>54.8545096</td></tr>\n",
       "<tr><td></td>\n",
       "<td>12</td>\n",
       "<td>0.6022983</td>\n",
       "<td>0.0006982</td>\n",
       "<td>1.1152993</td>\n",
       "<td>1.4770263</td>\n",
       "<td>0.5577889</td>\n",
       "<td>0.7386976</td>\n",
       "<td>0.1108891</td>\n",
       "<td>0.8896104</td>\n",
       "<td>11.5299274</td>\n",
       "<td>47.7026292</td></tr>\n",
       "<tr><td></td>\n",
       "<td>13</td>\n",
       "<td>0.6999750</td>\n",
       "<td>0.0001332</td>\n",
       "<td>0.5676331</td>\n",
       "<td>1.3501267</td>\n",
       "<td>0.2838875</td>\n",
       "<td>0.6752320</td>\n",
       "<td>0.0554446</td>\n",
       "<td>0.9450549</td>\n",
       "<td>-43.2366866</td>\n",
       "<td>35.0126676</td></tr>\n",
       "<tr><td></td>\n",
       "<td>14</td>\n",
       "<td>0.7999001</td>\n",
       "<td>0.0000222</td>\n",
       "<td>0.3299176</td>\n",
       "<td>1.2226802</td>\n",
       "<td>0.165</td>\n",
       "<td>0.6114928</td>\n",
       "<td>0.0329670</td>\n",
       "<td>0.9780220</td>\n",
       "<td>-67.0082418</td>\n",
       "<td>22.2680193</td></tr>\n",
       "<tr><td></td>\n",
       "<td>15</td>\n",
       "<td>0.8998251</td>\n",
       "<td>0.0000023</td>\n",
       "<td>0.2199451</td>\n",
       "<td>1.1113270</td>\n",
       "<td>0.11</td>\n",
       "<td>0.5558023</td>\n",
       "<td>0.0219780</td>\n",
       "<td>1.0</td>\n",
       "<td>-78.0054945</td>\n",
       "<td>11.1327041</td></tr>\n",
       "<tr><td></td>\n",
       "<td>16</td>\n",
       "<td>1.0</td>\n",
       "<td>0.0000000</td>\n",
       "<td>0.0</td>\n",
       "<td>1.0</td>\n",
       "<td>0.0</td>\n",
       "<td>0.5001249</td>\n",
       "<td>0.0</td>\n",
       "<td>1.0</td>\n",
       "<td>-100.0</td>\n",
       "<td>0.0</td></tr></table></div>"
      ],
      "text/plain": [
       "    group    cumulative_data_fraction    lower_threshold    lift      cumulative_lift    response_rate    cumulative_response_rate    capture_rate    cumulative_capture_rate    gain      cumulative_gain\n",
       "--  -------  --------------------------  -----------------  --------  -----------------  ---------------  --------------------------  --------------  -------------------------  --------  -----------------\n",
       "    1        0.0114914                   0.98587            1.91257   1.91257            0.956522         0.956522                    0.021978        0.021978                   91.2566   91.2566\n",
       "    2        0.0229828                   0.980104           1.91257   1.91257            0.956522         0.956522                    0.021978        0.043956                   91.2566   91.2566\n",
       "    3        0.0339745                   0.974088           1.9995    1.94069            1                0.970588                    0.021978        0.0659341                  99.95     94.0692\n",
       "    4        0.0402198                   0.950897           1.83954   1.92498            0.92             0.962733                    0.0114885       0.0774226                  83.954    92.4985\n",
       "    5        0.0512116                   0.938881           1.9995    1.94098            1                0.970732                    0.021978        0.0994006                  99.95     94.0979\n",
       "    6        0.105421                    0.698979           1.8705    1.90474            0.935484         0.952607                    0.101399        0.200799                   87.05     90.4737\n",
       "    7        0.155383                    0.355527           1.77956   1.86449            0.89             0.932476                    0.0889111       0.28971                    77.9555   86.4486\n",
       "    8        0.2001                      0.2132             1.75375   1.83974            0.877095         0.9201                      0.0784216       0.368132                   75.3752   83.974\n",
       "    9        0.302273                    0.065445           1.63284   1.76981            0.816626         0.885124                    0.166833        0.534965                   63.2844   76.9806\n",
       "    10       0.40045                     0.0104617          1.24142   1.64026            0.620865         0.820337                    0.121878        0.656843                   24.142    64.0264\n",
       "    11       0.502873                    0.00248128         1.18995   1.54855            0.595122         0.774466                    0.121878        0.778721                   18.9947   54.8545\n",
       "    12       0.602298                    0.000698232        1.1153    1.47703            0.557789         0.738698                    0.110889        0.88961                    11.5299   47.7026\n",
       "    13       0.699975                    0.00013317         0.567633  1.35013            0.283887         0.675232                    0.0554446       0.945055                   -43.2367  35.0127\n",
       "    14       0.7999                      2.22201e-05        0.329918  1.22268            0.165            0.611493                    0.032967        0.978022                   -67.0082  22.268\n",
       "    15       0.899825                    2.28866e-06        0.219945  1.11133            0.11             0.555802                    0.021978        1                          -78.0055  11.1327\n",
       "    16       1                           2.32249e-09        0         1                  0                0.500125                    0               1                          -100      0"
      ]
     },
     "metadata": {},
     "output_type": "display_data"
    },
    {
     "name": "stdout",
     "output_type": "stream",
     "text": [
      "\n",
      "\n"
     ]
    }
   ],
   "source": [
    "print model5.model_performance(train = True)"
   ]
  },
  {
   "cell_type": "code",
   "execution_count": 35,
   "metadata": {
    "collapsed": false,
    "deletable": true,
    "editable": true
   },
   "outputs": [
    {
     "name": "stdout",
     "output_type": "stream",
     "text": [
      "\n",
      "ModelMetricsBinomial: deeplearning\n",
      "** Reported on validation data. **\n",
      "\n",
      "MSE: 0.0346293683993\n",
      "RMSE: 0.186089678379\n",
      "LogLoss: 0.169137493409\n",
      "Mean Per-Class Error: 0.23351029601\n",
      "AUC: 0.821294508795\n",
      "Gini: 0.642589017589\n",
      "Confusion Matrix (Act/Pred) for max f1 @ threshold = 0.154378508479: \n"
     ]
    },
    {
     "data": {
      "text/html": [
       "<div style=\"overflow:auto\"><table style=\"width:50%\"><tr><td><b></b></td>\n",
       "<td><b>0</b></td>\n",
       "<td><b>1</b></td>\n",
       "<td><b>Error</b></td>\n",
       "<td><b>Rate</b></td></tr>\n",
       "<tr><td>0</td>\n",
       "<td>841.0</td>\n",
       "<td>47.0</td>\n",
       "<td>0.0529</td>\n",
       "<td> (47.0/888.0)</td></tr>\n",
       "<tr><td>1</td>\n",
       "<td>12.0</td>\n",
       "<td>9.0</td>\n",
       "<td>0.5714</td>\n",
       "<td> (12.0/21.0)</td></tr>\n",
       "<tr><td>Total</td>\n",
       "<td>853.0</td>\n",
       "<td>56.0</td>\n",
       "<td>0.0649</td>\n",
       "<td> (59.0/909.0)</td></tr></table></div>"
      ],
      "text/plain": [
       "       0    1    Error    Rate\n",
       "-----  ---  ---  -------  ------------\n",
       "0      841  47   0.0529   (47.0/888.0)\n",
       "1      12   9    0.5714   (12.0/21.0)\n",
       "Total  853  56   0.0649   (59.0/909.0)"
      ]
     },
     "metadata": {},
     "output_type": "display_data"
    },
    {
     "name": "stdout",
     "output_type": "stream",
     "text": [
      "Maximum Metrics: Maximum metrics at their respective thresholds\n",
      "\n"
     ]
    },
    {
     "data": {
      "text/html": [
       "<div style=\"overflow:auto\"><table style=\"width:50%\"><tr><td><b>metric</b></td>\n",
       "<td><b>threshold</b></td>\n",
       "<td><b>value</b></td>\n",
       "<td><b>idx</b></td></tr>\n",
       "<tr><td>max f1</td>\n",
       "<td>0.1543785</td>\n",
       "<td>0.2337662</td>\n",
       "<td>49.0</td></tr>\n",
       "<tr><td>max f2</td>\n",
       "<td>0.0789082</td>\n",
       "<td>0.3481013</td>\n",
       "<td>66.0</td></tr>\n",
       "<tr><td>max f0point5</td>\n",
       "<td>0.5788263</td>\n",
       "<td>0.2293578</td>\n",
       "<td>18.0</td></tr>\n",
       "<tr><td>max accuracy</td>\n",
       "<td>0.9980370</td>\n",
       "<td>0.9746975</td>\n",
       "<td>0.0</td></tr>\n",
       "<tr><td>max precision</td>\n",
       "<td>0.5788263</td>\n",
       "<td>0.2272727</td>\n",
       "<td>18.0</td></tr>\n",
       "<tr><td>max recall</td>\n",
       "<td>0.0000002</td>\n",
       "<td>1.0</td>\n",
       "<td>399.0</td></tr>\n",
       "<tr><td>max specificity</td>\n",
       "<td>0.9980370</td>\n",
       "<td>0.9977477</td>\n",
       "<td>0.0</td></tr>\n",
       "<tr><td>max absolute_mcc</td>\n",
       "<td>0.0789082</td>\n",
       "<td>0.2487851</td>\n",
       "<td>66.0</td></tr>\n",
       "<tr><td>max min_per_class_accuracy</td>\n",
       "<td>0.0014616</td>\n",
       "<td>0.7319820</td>\n",
       "<td>228.0</td></tr>\n",
       "<tr><td>max mean_per_class_accuracy</td>\n",
       "<td>0.0057323</td>\n",
       "<td>0.7664897</td>\n",
       "<td>156.0</td></tr></table></div>"
      ],
      "text/plain": [
       "metric                       threshold    value     idx\n",
       "---------------------------  -----------  --------  -----\n",
       "max f1                       0.154379     0.233766  49\n",
       "max f2                       0.0789082    0.348101  66\n",
       "max f0point5                 0.578826     0.229358  18\n",
       "max accuracy                 0.998037     0.974697  0\n",
       "max precision                0.578826     0.227273  18\n",
       "max recall                   1.72466e-07  1         399\n",
       "max specificity              0.998037     0.997748  0\n",
       "max absolute_mcc             0.0789082    0.248785  66\n",
       "max min_per_class_accuracy   0.00146159   0.731982  228\n",
       "max mean_per_class_accuracy  0.00573231   0.76649   156"
      ]
     },
     "metadata": {},
     "output_type": "display_data"
    },
    {
     "name": "stdout",
     "output_type": "stream",
     "text": [
      "Gains/Lift Table: Avg response rate:  2,31 %\n",
      "\n"
     ]
    },
    {
     "data": {
      "text/html": [
       "<div style=\"overflow:auto\"><table style=\"width:50%\"><tr><td><b></b></td>\n",
       "<td><b>group</b></td>\n",
       "<td><b>cumulative_data_fraction</b></td>\n",
       "<td><b>lower_threshold</b></td>\n",
       "<td><b>lift</b></td>\n",
       "<td><b>cumulative_lift</b></td>\n",
       "<td><b>response_rate</b></td>\n",
       "<td><b>cumulative_response_rate</b></td>\n",
       "<td><b>capture_rate</b></td>\n",
       "<td><b>cumulative_capture_rate</b></td>\n",
       "<td><b>gain</b></td>\n",
       "<td><b>cumulative_gain</b></td></tr>\n",
       "<tr><td></td>\n",
       "<td>1</td>\n",
       "<td>0.0110011</td>\n",
       "<td>0.9513735</td>\n",
       "<td>8.6571429</td>\n",
       "<td>8.6571429</td>\n",
       "<td>0.2</td>\n",
       "<td>0.2</td>\n",
       "<td>0.0952381</td>\n",
       "<td>0.0952381</td>\n",
       "<td>765.7142857</td>\n",
       "<td>765.7142857</td></tr>\n",
       "<tr><td></td>\n",
       "<td>2</td>\n",
       "<td>0.0209021</td>\n",
       "<td>0.7143552</td>\n",
       "<td>9.6190476</td>\n",
       "<td>9.1127820</td>\n",
       "<td>0.2222222</td>\n",
       "<td>0.2105263</td>\n",
       "<td>0.0952381</td>\n",
       "<td>0.1904762</td>\n",
       "<td>861.9047619</td>\n",
       "<td>811.2781955</td></tr>\n",
       "<tr><td></td>\n",
       "<td>3</td>\n",
       "<td>0.0308031</td>\n",
       "<td>0.4184143</td>\n",
       "<td>4.8095238</td>\n",
       "<td>7.7295918</td>\n",
       "<td>0.1111111</td>\n",
       "<td>0.1785714</td>\n",
       "<td>0.0476190</td>\n",
       "<td>0.2380952</td>\n",
       "<td>380.9523810</td>\n",
       "<td>672.9591837</td></tr>\n",
       "<tr><td></td>\n",
       "<td>4</td>\n",
       "<td>0.0407041</td>\n",
       "<td>0.3049688</td>\n",
       "<td>4.8095238</td>\n",
       "<td>7.0193050</td>\n",
       "<td>0.1111111</td>\n",
       "<td>0.1621622</td>\n",
       "<td>0.0476190</td>\n",
       "<td>0.2857143</td>\n",
       "<td>380.9523810</td>\n",
       "<td>601.9305019</td></tr>\n",
       "<tr><td></td>\n",
       "<td>5</td>\n",
       "<td>0.0506051</td>\n",
       "<td>0.2102586</td>\n",
       "<td>0.0</td>\n",
       "<td>5.6459627</td>\n",
       "<td>0.0</td>\n",
       "<td>0.1304348</td>\n",
       "<td>0.0</td>\n",
       "<td>0.2857143</td>\n",
       "<td>-100.0</td>\n",
       "<td>464.5962733</td></tr>\n",
       "<tr><td></td>\n",
       "<td>6</td>\n",
       "<td>0.1001100</td>\n",
       "<td>0.0520141</td>\n",
       "<td>4.8095238</td>\n",
       "<td>5.2323391</td>\n",
       "<td>0.1111111</td>\n",
       "<td>0.1208791</td>\n",
       "<td>0.2380952</td>\n",
       "<td>0.5238095</td>\n",
       "<td>380.9523810</td>\n",
       "<td>423.2339089</td></tr>\n",
       "<tr><td></td>\n",
       "<td>7</td>\n",
       "<td>0.1507151</td>\n",
       "<td>0.0146880</td>\n",
       "<td>1.8819876</td>\n",
       "<td>4.1074035</td>\n",
       "<td>0.0434783</td>\n",
       "<td>0.0948905</td>\n",
       "<td>0.0952381</td>\n",
       "<td>0.6190476</td>\n",
       "<td>88.1987578</td>\n",
       "<td>310.7403545</td></tr>\n",
       "<tr><td></td>\n",
       "<td>8</td>\n",
       "<td>0.2002200</td>\n",
       "<td>0.0048856</td>\n",
       "<td>1.9238095</td>\n",
       "<td>3.5675039</td>\n",
       "<td>0.0444444</td>\n",
       "<td>0.0824176</td>\n",
       "<td>0.0952381</td>\n",
       "<td>0.7142857</td>\n",
       "<td>92.3809524</td>\n",
       "<td>256.7503925</td></tr>\n",
       "<tr><td></td>\n",
       "<td>9</td>\n",
       "<td>0.3003300</td>\n",
       "<td>0.0012449</td>\n",
       "<td>0.9513344</td>\n",
       "<td>2.6954474</td>\n",
       "<td>0.0219780</td>\n",
       "<td>0.0622711</td>\n",
       "<td>0.0952381</td>\n",
       "<td>0.8095238</td>\n",
       "<td>-4.8665620</td>\n",
       "<td>169.5447410</td></tr>\n",
       "<tr><td></td>\n",
       "<td>10</td>\n",
       "<td>0.4004400</td>\n",
       "<td>0.0003612</td>\n",
       "<td>0.9513344</td>\n",
       "<td>2.2594192</td>\n",
       "<td>0.0219780</td>\n",
       "<td>0.0521978</td>\n",
       "<td>0.0952381</td>\n",
       "<td>0.9047619</td>\n",
       "<td>-4.8665620</td>\n",
       "<td>125.9419152</td></tr>\n",
       "<tr><td></td>\n",
       "<td>11</td>\n",
       "<td>0.5005501</td>\n",
       "<td>0.0001071</td>\n",
       "<td>0.0</td>\n",
       "<td>1.8075353</td>\n",
       "<td>0.0</td>\n",
       "<td>0.0417582</td>\n",
       "<td>0.0</td>\n",
       "<td>0.9047619</td>\n",
       "<td>-100.0</td>\n",
       "<td>80.7535322</td></tr>\n",
       "<tr><td></td>\n",
       "<td>12</td>\n",
       "<td>0.5995600</td>\n",
       "<td>0.0000396</td>\n",
       "<td>0.4809524</td>\n",
       "<td>1.5884666</td>\n",
       "<td>0.0111111</td>\n",
       "<td>0.0366972</td>\n",
       "<td>0.0476190</td>\n",
       "<td>0.9523810</td>\n",
       "<td>-51.9047619</td>\n",
       "<td>58.8466579</td></tr>\n",
       "<tr><td></td>\n",
       "<td>13</td>\n",
       "<td>0.6996700</td>\n",
       "<td>0.0000104</td>\n",
       "<td>0.0</td>\n",
       "<td>1.3611860</td>\n",
       "<td>0.0</td>\n",
       "<td>0.0314465</td>\n",
       "<td>0.0</td>\n",
       "<td>0.9523810</td>\n",
       "<td>-100.0</td>\n",
       "<td>36.1185984</td></tr>\n",
       "<tr><td></td>\n",
       "<td>14</td>\n",
       "<td>0.7997800</td>\n",
       "<td>0.0000021</td>\n",
       "<td>0.0</td>\n",
       "<td>1.1908037</td>\n",
       "<td>0.0</td>\n",
       "<td>0.0275103</td>\n",
       "<td>0.0</td>\n",
       "<td>0.9523810</td>\n",
       "<td>-100.0</td>\n",
       "<td>19.0803694</td></tr>\n",
       "<tr><td></td>\n",
       "<td>15</td>\n",
       "<td>0.8998900</td>\n",
       "<td>0.0000004</td>\n",
       "<td>0.0</td>\n",
       "<td>1.0583304</td>\n",
       "<td>0.0</td>\n",
       "<td>0.0244499</td>\n",
       "<td>0.0</td>\n",
       "<td>0.9523810</td>\n",
       "<td>-100.0</td>\n",
       "<td>5.8330423</td></tr>\n",
       "<tr><td></td>\n",
       "<td>16</td>\n",
       "<td>1.0</td>\n",
       "<td>0.0000000</td>\n",
       "<td>0.4756672</td>\n",
       "<td>1.0</td>\n",
       "<td>0.0109890</td>\n",
       "<td>0.0231023</td>\n",
       "<td>0.0476190</td>\n",
       "<td>1.0</td>\n",
       "<td>-52.4332810</td>\n",
       "<td>0.0</td></tr></table></div>"
      ],
      "text/plain": [
       "    group    cumulative_data_fraction    lower_threshold    lift      cumulative_lift    response_rate    cumulative_response_rate    capture_rate    cumulative_capture_rate    gain      cumulative_gain\n",
       "--  -------  --------------------------  -----------------  --------  -----------------  ---------------  --------------------------  --------------  -------------------------  --------  -----------------\n",
       "    1        0.0110011                   0.951374           8.65714   8.65714            0.2              0.2                         0.0952381       0.0952381                  765.714   765.714\n",
       "    2        0.0209021                   0.714355           9.61905   9.11278            0.222222         0.210526                    0.0952381       0.190476                   861.905   811.278\n",
       "    3        0.0308031                   0.418414           4.80952   7.72959            0.111111         0.178571                    0.047619        0.238095                   380.952   672.959\n",
       "    4        0.0407041                   0.304969           4.80952   7.01931            0.111111         0.162162                    0.047619        0.285714                   380.952   601.931\n",
       "    5        0.0506051                   0.210259           0         5.64596            0                0.130435                    0               0.285714                   -100      464.596\n",
       "    6        0.10011                     0.0520141          4.80952   5.23234            0.111111         0.120879                    0.238095        0.52381                    380.952   423.234\n",
       "    7        0.150715                    0.014688           1.88199   4.1074             0.0434783        0.0948905                   0.0952381       0.619048                   88.1988   310.74\n",
       "    8        0.20022                     0.0048856          1.92381   3.5675             0.0444444        0.0824176                   0.0952381       0.714286                   92.381    256.75\n",
       "    9        0.30033                     0.00124488         0.951334  2.69545            0.021978         0.0622711                   0.0952381       0.809524                   -4.86656  169.545\n",
       "    10       0.40044                     0.000361223        0.951334  2.25942            0.021978         0.0521978                   0.0952381       0.904762                   -4.86656  125.942\n",
       "    11       0.50055                     0.000107073        0         1.80754            0                0.0417582                   0               0.904762                   -100      80.7535\n",
       "    12       0.59956                     3.95706e-05        0.480952  1.58847            0.0111111        0.0366972                   0.047619        0.952381                   -51.9048  58.8467\n",
       "    13       0.69967                     1.04313e-05        0         1.36119            0                0.0314465                   0               0.952381                   -100      36.1186\n",
       "    14       0.79978                     2.12165e-06        0         1.1908             0                0.0275103                   0               0.952381                   -100      19.0804\n",
       "    15       0.89989                     3.70056e-07        0         1.05833            0                0.0244499                   0               0.952381                   -100      5.83304\n",
       "    16       1                           1.77686e-09        0.475667  1                  0.010989         0.0231023                   0.047619        1                          -52.4333  0"
      ]
     },
     "metadata": {},
     "output_type": "display_data"
    },
    {
     "name": "stdout",
     "output_type": "stream",
     "text": [
      "\n",
      "\n"
     ]
    }
   ],
   "source": [
    "print model5.model_performance(valid = True)"
   ]
  }
 ],
 "metadata": {
  "kernelspec": {
   "display_name": "Python 2",
   "language": "python",
   "name": "python2"
  },
  "language_info": {
   "codemirror_mode": {
    "name": "ipython",
    "version": 2
   },
   "file_extension": ".py",
   "mimetype": "text/x-python",
   "name": "python",
   "nbconvert_exporter": "python",
   "pygments_lexer": "ipython2",
   "version": "2.7.12"
  }
 },
 "nbformat": 4,
 "nbformat_minor": 2
}
